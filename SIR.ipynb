{
 "cells": [
  {
   "cell_type": "code",
   "execution_count": 4,
   "metadata": {},
   "outputs": [
    {
     "data": {
      "image/png": "[encoded data removed]",
      "text/plain": [
       "<Figure size 432x288 with 1 Axes>"
      ]
     },
     "metadata": {
      "needs_background": "light"
     },
     "output_type": "display_data"
    }
   ],
   "source": [
    "from scipy.integrate import odeint\n",
    "from scipy.integrate import solve_ivp\n",
    "from scipy.optimize import minimize\n",
    "from scipy.special import logit, expit\n",
    "import matplotlib.pyplot as plt\n",
    "import numpy as np\n",
    "\n",
    "#SIR\n",
    "\n",
    "def derivSt( y, t, beta, gamma):\n",
    "    S, I , R= y\n",
    "    dSdt = -beta * S * I\n",
    "    dIdt= beta * S * I\n",
    "    dRdt = gamma * I\n",
    "    return  dSdt, dIdt,dRdt\n",
    "\n",
    "def SIR(S0, I0, beta, gamma, days):\n",
    "    # Initial conditions vector\n",
    "    y0 = S0, I0, 0\n",
    "    # Integrating the SIR equations over the time grid, t\n",
    "    t = list(range(0, days))\n",
    "    # Getting results\n",
    "    result = odeint(derivSt, y0, t, args=(beta, gamma))\n",
    "    S, I, R = result.T\n",
    "    return S, I, R\n",
    "    \n",
    "     \n",
    "N = 6700000\n",
    "i_0    = 1\n",
    "r_0    = 0\n",
    "s_0    = N - i_0 - r_0\n",
    "S, I, R = SIR(s_0, I0=i_0, beta=0.00000002, gamma=1/5.2, days=165)\n",
    "\n",
    "plt.plot(S)\n",
    "plt.plot(I)\n",
    "plt.plot(R)\n",
    "plt.show()"
   ]
  },
  {
   "cell_type": "code",
   "execution_count": null,
   "metadata": {},
   "outputs": [],
   "source": []
  },
  {
   "cell_type": "code",
   "execution_count": null,
   "metadata": {},
   "outputs": [],
   "source": []
  },
  {
   "cell_type": "code",
   "execution_count": null,
   "metadata": {},
   "outputs": [],
   "source": []
  }
 ],
 "metadata": {
  "kernelspec": {
   "display_name": "Python 3",
   "language": "python",
   "name": "python3"
  },
  "language_info": {
   "codemirror_mode": {
    "name": "ipython",
    "version": 3
   },
   "file_extension": ".py",
   "mimetype": "text/x-python",
   "name": "python",
   "nbconvert_exporter": "python",
   "pygments_lexer": "ipython3",
   "version": "3.8.3"
  }
 },
 "nbformat": 4,
 "nbformat_minor": 4
}
